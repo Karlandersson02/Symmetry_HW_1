{
 "cells": [
  {
   "cell_type": "code",
   "execution_count": 1,
   "metadata": {},
   "outputs": [],
   "source": [
    "import numpy as np"
   ]
  },
  {
   "cell_type": "code",
   "execution_count": null,
   "metadata": {},
   "outputs": [],
   "source": [
    "# just array formatting\n",
    "def custom_complex_formatter(x):\n",
    "    if np.isclose(x, 0):\n",
    "        return \"0\"\n",
    "    elif np.isreal(x):\n",
    "        return f\"{x.real:.1f}\"\n",
    "    elif np.isclose(x.real, 0):\n",
    "        return f\"{x.imag:.1f}j\"\n",
    "    else:\n",
    "        return f\"{x.real:.1f}+{x.imag:.1f}j\"\n",
    "    \n",
    "np.set_printoptions(formatter={'all': custom_complex_formatter})"
   ]
  },
  {
   "cell_type": "code",
   "execution_count": null,
   "metadata": {},
   "outputs": [
    {
     "data": {
      "text/plain": [
       "array([[[0, 1.0, 0, 0],\n",
       "        [-1.0, 0, 0, 0],\n",
       "        [0, 0, 0, 0],\n",
       "        [0, 0, 0, 0]],\n",
       "\n",
       "       [[0, 0, 1.0, 0],\n",
       "        [0, 0, 0, 0],\n",
       "        [-1.0, 0, 0, 0],\n",
       "        [0, 0, 0, 0]],\n",
       "\n",
       "       [[0, 0, 0, 1.0],\n",
       "        [0, 0, 0, 0],\n",
       "        [0, 0, 0, 0],\n",
       "        [-1.0, 0, 0, 0]],\n",
       "\n",
       "       [[0, 0, 0, 0],\n",
       "        [0, 0, 1.0, 0],\n",
       "        [0, -1.0, 0, 0],\n",
       "        [0, 0, 0, 0]],\n",
       "\n",
       "       [[0, 0, 0, 0],\n",
       "        [0, 0, 0, -1.0],\n",
       "        [0, 0, 0, 0],\n",
       "        [0, 1.0, 0, 0]],\n",
       "\n",
       "       [[0, 0, 0, 0],\n",
       "        [0, 0, 0, 0],\n",
       "        [0, 0, 0, 1.0],\n",
       "        [0, 0, -1.0, 0]]])"
      ]
     },
     "metadata": {},
     "output_type": "display_data"
    }
   ],
   "source": [
    "def kronecker(a, b):\n",
    "    return int(a==b)\n",
    "\n",
    "def kronecker_combination(a, b, c, d):\n",
    "    return kronecker(a, c) * kronecker(b, d) - kronecker(a, d) * kronecker(b, c)\n",
    "\n",
    "# The generators (E^(index_pairs))_(pq)\n",
    "index_pairs = [(0,1), (0,2), (0,3), (1,2), (3,1), (2,3)]\n",
    "\n",
    "basis = np.zeros((6, 4, 4), dtype=np.complex_)\n",
    "\n",
    "for k, index_pair in enumerate(index_pairs):\n",
    "    basis_element = np.zeros((4,4))\n",
    "    for i in range(4):\n",
    "        for j in range(4):\n",
    "            basis_element[i, j] = kronecker_combination(*index_pair, i, j)\n",
    "    basis[k] = basis_element\n",
    "    \n",
    "display(basis)"
   ]
  },
  {
   "cell_type": "code",
   "execution_count": 96,
   "metadata": {},
   "outputs": [
    {
     "data": {
      "text/plain": [
       "array([[0, 0, 0, 0.5],\n",
       "       [0, 0, 0.5, 0],\n",
       "       [0, -0.5, 0, 0],\n",
       "       [-0.5, 0, 0, 0]])"
      ]
     },
     "metadata": {},
     "output_type": "display_data"
    },
    {
     "data": {
      "text/plain": [
       "array([[0, 0, 0, 0.5],\n",
       "       [0, 0, 0.5, 0],\n",
       "       [0, -0.5, 0, 0],\n",
       "       [-0.5, 0, 0, 0]])"
      ]
     },
     "metadata": {},
     "output_type": "display_data"
    },
    {
     "name": "stdout",
     "output_type": "stream",
     "text": [
      "------------------------\n"
     ]
    },
    {
     "data": {
      "text/plain": [
       "array([[0, 0, 0, -0.5],\n",
       "       [0, 0, 0.5, 0],\n",
       "       [0, -0.5, 0, 0],\n",
       "       [0.5, 0, 0, 0]])"
      ]
     },
     "metadata": {},
     "output_type": "display_data"
    },
    {
     "data": {
      "text/plain": [
       "array([[0, 0, 0, -0.5],\n",
       "       [0, 0, 0.5, 0],\n",
       "       [0, -0.5, 0, 0],\n",
       "       [0.5, 0, 0, 0]])"
      ]
     },
     "metadata": {},
     "output_type": "display_data"
    }
   ],
   "source": [
    "def commutator(A, B):\n",
    "    return A@B - B@A\n",
    "\n",
    "# The New S and S_bar generators\n",
    "S1 = -1j*(basis[0] + basis[-1])/2\n",
    "S2 = -1j*(basis[1] + basis[-2])/2\n",
    "S3 = -1j*(basis[2] + basis[-3])/2\n",
    "\n",
    "S1_p = 1j*(basis[0] - basis[-1])/2\n",
    "S2_p = 1j*(basis[1] - basis[-2])/2\n",
    "S3_p = 1j*(basis[2] - basis[-3])/2\n",
    "\n",
    "# I have confirmed all permutations.\n",
    "display(commutator(S1, S2))\n",
    "display(1j*S3) # there is no levi civita symb so beware of +-\n",
    "\n",
    "print(\"------------------------\")\n",
    "\n",
    "display(commutator(S1_p, S2_p))\n",
    "display(1j*S3_p) # there is no levi civita symb so beware of +-"
   ]
  }
 ],
 "metadata": {
  "kernelspec": {
   "display_name": "Python 3",
   "language": "python",
   "name": "python3"
  },
  "language_info": {
   "codemirror_mode": {
    "name": "ipython",
    "version": 3
   },
   "file_extension": ".py",
   "mimetype": "text/x-python",
   "name": "python",
   "nbconvert_exporter": "python",
   "pygments_lexer": "ipython3",
   "version": "3.10.11"
  }
 },
 "nbformat": 4,
 "nbformat_minor": 2
}
